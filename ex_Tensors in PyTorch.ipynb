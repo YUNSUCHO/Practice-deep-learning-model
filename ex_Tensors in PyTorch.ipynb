{
 "cells": [
  {
   "cell_type": "code",
   "execution_count": 9,
   "metadata": {},
   "outputs": [],
   "source": [
    "#Tensor"
   ]
  },
  {
   "cell_type": "code",
   "execution_count": 10,
   "metadata": {},
   "outputs": [],
   "source": [
    "import torch"
   ]
  },
  {
   "cell_type": "code",
   "execution_count": 11,
   "metadata": {},
   "outputs": [],
   "source": [
    "def activation(x):\n",
    "    \"sigmoid activation function\"\n",
    "    return 1 / (1 + torch.exp(-x))"
   ]
  },
  {
   "cell_type": "code",
   "execution_count": 12,
   "metadata": {},
   "outputs": [],
   "source": [
    "#generate some data\n",
    "#set the randome seed for expectable\n",
    "torch.manual_seed(7)\n",
    "\n",
    "#features are 5 random number variables\n",
    "features = torch.randn((1,5))\n",
    "\n",
    "#true weights for true data , random normal value\n",
    "weights = torch.randn_like(features)\n",
    "\n",
    "#true bias term\n",
    "bias = torch.randn((1,1))"
   ]
  },
  {
   "cell_type": "code",
   "execution_count": 13,
   "metadata": {},
   "outputs": [],
   "source": [
    "#calculate output for this network using weights and bias \n",
    "#make labels from out data and true weights\n",
    "y = activation(torch.sum(features * weights) + bias)\n",
    "y = activation((features * weights).sum() + bias)"
   ]
  },
  {
   "cell_type": "code",
   "execution_count": 14,
   "metadata": {},
   "outputs": [],
   "source": [
    "#calculate the output of this network using matrix multiplication\n",
    "y = activation(torch.mm(features, weights.view(5,1)) + bias)\n",
    "\n",
    "#weights.view(a, b) will return a new tensor with the same data as weights with size (a,b)"
   ]
  },
  {
   "cell_type": "code",
   "execution_count": 15,
   "metadata": {},
   "outputs": [],
   "source": [
    "#Stack them up"
   ]
  },
  {
   "cell_type": "code",
   "execution_count": 19,
   "metadata": {},
   "outputs": [],
   "source": [
    "#generate some data\n",
    "torch.manual_seed(7)\n",
    "#features are 3 random normal variables\n",
    "features = torch.randn((1, 3))\n",
    "\n",
    "#define the size of each layers in our network\n",
    "n_input = features.shape[1]\n",
    "n_hidden = 2\n",
    "n_output = 1\n",
    "\n",
    "#weights for inputs to hidden layer\n",
    "W1 = torch.randn(n_input, n_hidden)\n",
    "#weights for hidden layer to output layer\n",
    "W2 = torch.randn(n_hidden, n_output)\n",
    "\n",
    "#bias tern for hidden and output layer\n",
    "B1 = torch.randn(1, n_hidden)\n",
    "B2 = torch.randn(1, n_output)"
   ]
  },
  {
   "cell_type": "code",
   "execution_count": 21,
   "metadata": {},
   "outputs": [
    {
     "name": "stdout",
     "output_type": "stream",
     "text": [
      "tensor([[0.3171]])\n"
     ]
    }
   ],
   "source": [
    "h = activation(torch.mm(features, W1) + B1)\n",
    "output = activation(torch.mm(h, W2) + B2)\n",
    "print(output)"
   ]
  },
  {
   "cell_type": "code",
   "execution_count": 22,
   "metadata": {},
   "outputs": [],
   "source": [
    "#Numpy to torch and back"
   ]
  },
  {
   "cell_type": "code",
   "execution_count": 23,
   "metadata": {},
   "outputs": [
    {
     "data": {
      "text/plain": [
       "array([[0.01527869, 0.30602863, 0.27083076],\n",
       "       [0.6350257 , 0.97375724, 0.05007834],\n",
       "       [0.72358349, 0.04641261, 0.39894402],\n",
       "       [0.60311098, 0.2740784 , 0.90893008]])"
      ]
     },
     "execution_count": 23,
     "metadata": {},
     "output_type": "execute_result"
    }
   ],
   "source": [
    "import numpy as np\n",
    "a = np.random.rand(4, 3)\n",
    "a"
   ]
  },
  {
   "cell_type": "code",
   "execution_count": 24,
   "metadata": {},
   "outputs": [
    {
     "data": {
      "text/plain": [
       "tensor([[0.0153, 0.3060, 0.2708],\n",
       "        [0.6350, 0.9738, 0.0501],\n",
       "        [0.7236, 0.0464, 0.3989],\n",
       "        [0.6031, 0.2741, 0.9089]], dtype=torch.float64)"
      ]
     },
     "execution_count": 24,
     "metadata": {},
     "output_type": "execute_result"
    }
   ],
   "source": [
    "b = torch.from_numpy(a)\n",
    "b"
   ]
  },
  {
   "cell_type": "code",
   "execution_count": 25,
   "metadata": {},
   "outputs": [
    {
     "data": {
      "text/plain": [
       "array([[0.01527869, 0.30602863, 0.27083076],\n",
       "       [0.6350257 , 0.97375724, 0.05007834],\n",
       "       [0.72358349, 0.04641261, 0.39894402],\n",
       "       [0.60311098, 0.2740784 , 0.90893008]])"
      ]
     },
     "execution_count": 25,
     "metadata": {},
     "output_type": "execute_result"
    }
   ],
   "source": [
    "b.numpy()"
   ]
  },
  {
   "cell_type": "code",
   "execution_count": 26,
   "metadata": {},
   "outputs": [
    {
     "data": {
      "text/plain": [
       "tensor([[0.0306, 0.6121, 0.5417],\n",
       "        [1.2701, 1.9475, 0.1002],\n",
       "        [1.4472, 0.0928, 0.7979],\n",
       "        [1.2062, 0.5482, 1.8179]], dtype=torch.float64)"
      ]
     },
     "execution_count": 26,
     "metadata": {},
     "output_type": "execute_result"
    }
   ],
   "source": [
    "#multilpy pytorch tensor by 2, in place\n",
    "b.mul_(2)"
   ]
  },
  {
   "cell_type": "code",
   "execution_count": 27,
   "metadata": {},
   "outputs": [
    {
     "data": {
      "text/plain": [
       "array([[0.03055738, 0.61205725, 0.54166151],\n",
       "       [1.2700514 , 1.94751448, 0.10015668],\n",
       "       [1.44716699, 0.09282522, 0.79788803],\n",
       "       [1.20622195, 0.54815679, 1.81786017]])"
      ]
     },
     "execution_count": 27,
     "metadata": {},
     "output_type": "execute_result"
    }
   ],
   "source": [
    "a"
   ]
  },
  {
   "cell_type": "code",
   "execution_count": null,
   "metadata": {},
   "outputs": [],
   "source": []
  }
 ],
 "metadata": {
  "kernelspec": {
   "display_name": "Python 3",
   "language": "python",
   "name": "python3"
  },
  "language_info": {
   "codemirror_mode": {
    "name": "ipython",
    "version": 3
   },
   "file_extension": ".py",
   "mimetype": "text/x-python",
   "name": "python",
   "nbconvert_exporter": "python",
   "pygments_lexer": "ipython3",
   "version": "3.7.3"
  }
 },
 "nbformat": 4,
 "nbformat_minor": 2
}
