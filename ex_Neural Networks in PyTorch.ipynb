{
 "cells": [
  {
   "cell_type": "code",
   "execution_count": 1,
   "metadata": {},
   "outputs": [],
   "source": [
    "#Neural network with pytorch"
   ]
  },
  {
   "cell_type": "code",
   "execution_count": 68,
   "metadata": {},
   "outputs": [],
   "source": [
    "%matplotlib inline\n",
    "%config InlineBackend.figure_format = 'retina'\n",
    "\n",
    "import numpy as np\n",
    "import matplotlib.pyplot as plt\n",
    "import torch\n",
    "import helper"
   ]
  },
  {
   "cell_type": "code",
   "execution_count": 69,
   "metadata": {},
   "outputs": [],
   "source": [
    "##run this cell\n",
    "from torchvision import datasets, transforms\n",
    "\n",
    "#define transform to normalize the data\n",
    "transform = transforms.Compose([transforms.ToTensor(),\n",
    "                               transforms.Normalize((0.5,), (0.5,)),])\n",
    "#download and load the training data\n",
    "trainset = datasets.MNIST('~/.pytorch/MNIST_data/', download = True, train = True, transform = transform)\n",
    "trainloader = torch.utils.data.DataLoader(trainset, batch_size = 64, shuffle = True)"
   ]
  },
  {
   "cell_type": "code",
   "execution_count": 70,
   "metadata": {},
   "outputs": [
    {
     "name": "stdout",
     "output_type": "stream",
     "text": [
      "<class 'torch.Tensor'>\n",
      "torch.Size([64, 1, 28, 28])\n",
      "torch.Size([64])\n"
     ]
    }
   ],
   "source": [
    "dataiter = iter(trainloader)\n",
    "images, labels = dataiter.next()\n",
    "print(type(images))\n",
    "print(images.shape)\n",
    "print(labels.shape)"
   ]
  },
  {
   "cell_type": "code",
   "execution_count": 71,
   "metadata": {},
   "outputs": [
    {
     "data": {
      "text/plain": [
       "<matplotlib.image.AxesImage at 0x12b9e31d0>"
      ]
     },
     "execution_count": 71,
     "metadata": {},
     "output_type": "execute_result"
    },
    {
     "data": {
      "image/png": "[encoded data removed]",
      "text/plain": [
       "<Figure size 432x288 with 1 Axes>"
      ]
     },
     "metadata": {
      "image/png": {
       "height": 248,
       "width": 251
      },
      "needs_background": "light"
     },
     "output_type": "display_data"
    }
   ],
   "source": [
    "plt.imshow(images[1].numpy().squeeze(), cmap = 'Greys_r')"
   ]
  },
  {
   "cell_type": "code",
   "execution_count": 72,
   "metadata": {},
   "outputs": [
    {
     "name": "stdout",
     "output_type": "stream",
     "text": [
      "tensor([[-7.7894e+00, -6.4009e+00, -1.2032e+00,  3.3208e+01,  1.5411e+01,\n",
      "         -1.6009e+01,  2.8526e+01, -1.8857e+00,  2.2676e+01, -1.0572e+01],\n",
      "        [-1.4069e+01, -6.6348e+00,  3.2031e+00,  3.3906e+01,  1.3277e+01,\n",
      "         -1.1147e+00,  1.6310e+01, -1.4007e+01,  2.5959e+01, -4.6453e+00],\n",
      "        [-5.1540e+00, -5.1916e+00,  1.5175e+01,  3.3225e+01,  9.9161e+00,\n",
      "         -7.5240e+00,  2.8951e+01, -5.6095e+00,  2.6264e+01, -1.1257e+01],\n",
      "        [-1.6972e+00, -1.1360e+01,  9.4419e+00,  3.2076e+01,  2.1302e+01,\n",
      "         -5.9221e+00,  2.7948e+01, -5.0664e+00,  2.2262e+01, -8.9525e+00],\n",
      "        [-7.2677e+00, -5.9146e+00,  1.1516e+01,  2.6289e+01,  8.0718e+00,\n",
      "         -4.9547e+00,  2.9942e+01, -4.5023e+00,  2.6000e+01, -2.2622e+01],\n",
      "        [-1.2676e+01, -1.2402e+01,  1.4803e+01,  2.3379e+01,  1.5698e+01,\n",
      "          6.0193e+00,  2.4609e+01, -7.0626e+00,  1.8954e+01, -1.3751e+01],\n",
      "        [-8.2826e+00, -7.4603e+00,  1.4074e+01,  3.4971e+01,  1.0948e+01,\n",
      "          1.0164e+01,  2.6920e+01, -8.1790e-01,  3.5465e+01, -1.3443e+01],\n",
      "        [-1.8413e+01, -1.9916e+01,  1.0005e+01,  2.1624e+01,  1.1089e+01,\n",
      "         -2.2800e+00,  2.5253e+01, -1.2381e+01,  2.7218e+01, -1.1712e+01],\n",
      "        [-3.5440e+00, -9.5115e+00,  6.6650e+00,  2.7132e+01,  1.9517e+01,\n",
      "          1.9371e+00,  2.1020e+01, -1.4732e+01,  1.8560e+01, -1.0490e+01],\n",
      "        [-8.6872e+00, -5.2630e+00,  1.1781e+01,  3.5237e+01,  1.4290e+01,\n",
      "          1.5312e+00,  2.7567e+01, -7.5297e+00,  2.0729e+01, -2.5346e+00],\n",
      "        [-7.2642e-01, -2.0271e+00, -1.9618e+00,  3.4505e+01,  1.9156e+01,\n",
      "         -1.0683e+01,  2.0624e+01, -5.8769e+00,  1.9676e+01, -1.7375e+01],\n",
      "        [-1.7306e+01, -7.5897e+00,  1.6329e+01,  2.6456e+01,  9.2543e+00,\n",
      "         -7.5861e+00,  2.3460e+01,  1.8724e+00,  2.9722e+01, -6.0411e+00],\n",
      "        [-3.2932e+00, -9.8280e+00,  8.6635e-01,  3.7378e+01,  9.1102e+00,\n",
      "         -1.3345e+01,  2.7047e+01, -1.1615e+01,  2.3798e+01, -1.4518e+01],\n",
      "        [-8.9929e+00, -1.5252e+01,  8.0283e+00,  2.8794e+01,  8.1388e+00,\n",
      "         -2.4893e+00,  3.3247e+01, -6.5566e+00,  2.3534e+01, -1.1519e+01],\n",
      "        [-6.1502e+00, -1.6516e+00,  3.2464e+00,  2.4913e+01,  1.3608e+01,\n",
      "          5.6844e+00,  2.1806e+01, -1.1120e+01,  2.5521e+01, -1.2227e+01],\n",
      "        [-1.1475e+01, -8.2640e-01,  1.2733e+01,  3.2352e+01,  1.0359e+01,\n",
      "         -3.0729e+00,  2.4491e+01, -1.1356e+01,  1.6160e+01, -1.3082e+00],\n",
      "        [-1.1373e+01, -2.4477e+00, -2.7958e-01,  2.1450e+01,  1.2839e+01,\n",
      "         -3.7786e+00,  3.2346e+01, -7.9582e+00,  2.9204e+01, -1.7959e+01],\n",
      "        [-1.1074e+00, -7.4990e+00,  1.1772e-01,  2.8382e+01,  1.3342e+01,\n",
      "         -9.9272e+00,  3.2640e+01, -7.7351e+00,  1.3419e+01, -1.3826e+01],\n",
      "        [-1.8537e+00, -4.9478e+00,  1.4954e+01,  3.6061e+01,  9.5664e+00,\n",
      "         -1.2641e+00,  1.9798e+01, -1.4898e-01,  2.3362e+01, -1.7307e+01],\n",
      "        [-1.9357e+01, -1.7969e+01,  4.9383e+00,  2.8881e+01,  1.2703e+01,\n",
      "          5.0212e+00,  2.6721e+01, -1.0504e+01,  3.2670e+01, -1.1289e+01],\n",
      "        [-8.8093e+00, -9.2776e+00,  4.2935e+00,  3.1918e+01,  1.1693e+01,\n",
      "         -7.9334e+00,  3.4274e+01, -1.8821e+00,  3.6288e+01, -1.4877e+01],\n",
      "        [-1.5740e+01, -3.0174e+00,  1.6146e+01,  2.9107e+01,  8.9049e+00,\n",
      "         -1.0130e+01,  2.0504e+01, -6.1023e+00,  2.0595e+01, -9.6260e+00],\n",
      "        [-1.2998e+01, -1.6227e+01,  4.3796e+00,  2.6685e+01,  1.8862e+01,\n",
      "         -1.7374e+00,  3.2230e+01, -9.8120e+00,  2.0104e+01, -1.7724e+01],\n",
      "        [-3.0232e+00, -1.5925e+01,  1.2571e+01,  3.6840e+01,  8.5013e+00,\n",
      "         -8.1264e+00,  2.5718e+01, -3.8855e+00,  1.9940e+01, -1.2006e+01],\n",
      "        [-1.8230e+01, -8.4555e+00,  1.0230e+01,  3.3899e+01,  1.3705e+01,\n",
      "          1.8306e+00,  2.7683e+01, -1.0548e+01,  2.5823e+01, -3.1395e+00],\n",
      "        [ 2.2844e+00, -5.1858e+00, -8.7820e-01,  3.2301e+01,  1.5109e+01,\n",
      "         -1.0266e+01,  3.0973e+01, -4.3787e+00,  2.3880e+01, -1.4974e+01],\n",
      "        [-2.5324e+01, -8.6580e+00,  1.0780e+01,  3.0538e+01,  2.7527e+00,\n",
      "         -3.8098e+00,  3.0951e+01, -1.0919e+01,  3.6070e+01, -1.2308e+01],\n",
      "        [-1.9791e+01, -6.4301e+00,  1.7483e+01,  2.4145e+01,  1.4334e+01,\n",
      "          5.7587e+00,  2.4405e+01, -9.3380e+00,  2.8844e+01, -1.8067e+00],\n",
      "        [-1.7999e+01, -5.1140e+00,  1.7846e+01,  3.0828e+01,  6.5098e-01,\n",
      "         -2.9084e+00,  1.6146e+01, -6.6808e+00,  3.2856e+01,  2.9564e-02],\n",
      "        [-2.4541e+00, -3.3869e+00,  6.8198e+00,  3.5485e+01,  1.1104e+01,\n",
      "          5.8538e+00,  2.8521e+01, -8.1601e-01,  3.4351e+01, -1.8767e+01],\n",
      "        [-6.6582e+00, -1.1083e+01,  2.1777e+01,  3.5422e+01,  8.7303e+00,\n",
      "         -3.3408e+00,  2.8077e+01, -1.0803e+01,  2.5909e+01, -1.3075e+00],\n",
      "        [-1.4320e+01, -1.0178e+01,  1.3332e+01,  2.3945e+01,  1.3196e+01,\n",
      "         -6.1377e+00,  3.3702e+01, -5.0806e+00,  2.4924e+01, -1.6060e+01],\n",
      "        [-1.8199e+01,  1.5599e+00,  1.6683e+01,  2.1241e+01,  1.2488e+01,\n",
      "         -3.6178e-01,  1.8727e+01, -6.0184e+00,  2.5595e+01, -5.0473e+00],\n",
      "        [-1.5333e+01,  5.9621e-01,  8.0558e+00,  3.7660e+01,  1.1830e+01,\n",
      "          3.1290e+00,  2.7334e+01, -5.1481e+00,  2.7325e+01, -6.6082e+00],\n",
      "        [-1.4721e+01, -6.8912e+00,  3.7207e+00,  2.5810e+01,  8.2444e+00,\n",
      "          2.8913e+00,  3.2058e+01, -1.3645e+01,  2.3513e+01, -1.2327e+01],\n",
      "        [-1.5245e+01, -3.4044e+00,  1.3867e+01,  3.5545e+01,  1.5596e+01,\n",
      "         -1.1491e+01,  2.9596e+01, -5.8384e+00,  2.8892e+01, -7.8411e+00],\n",
      "        [-7.5709e+00, -1.0977e+01,  6.1246e+00,  2.8619e+01,  1.6867e+01,\n",
      "         -7.5795e+00,  2.4378e+01, -8.7485e+00,  2.1730e+01, -1.2091e+01],\n",
      "        [-9.3162e+00, -6.0262e+00,  2.6219e+00,  2.1945e+01,  1.5277e+01,\n",
      "         -7.8201e-01,  3.6648e+01, -7.0811e+00,  2.6438e+01, -1.9058e+01],\n",
      "        [-3.1672e+00, -3.9405e+00,  1.7693e+01,  2.5672e+01,  2.3005e+01,\n",
      "         -1.1481e+00,  2.5110e+01, -1.0156e+01,  2.3447e+01, -9.9909e+00],\n",
      "        [-6.9891e+00,  1.6804e+00,  8.6397e+00,  3.2495e+01,  4.3850e+00,\n",
      "         -7.6000e+00,  3.2970e+01, -5.8674e+00,  2.1974e+01, -2.2816e+00],\n",
      "        [-1.6564e+01, -6.8175e+00,  1.2651e+01,  2.9607e+01,  1.1093e+01,\n",
      "         -9.8611e+00,  2.3611e+01, -4.4427e+00,  2.1313e+01, -1.0484e+01],\n",
      "        [-9.5402e+00, -1.7444e+01,  1.5868e+01,  3.2536e+01,  1.1855e+01,\n",
      "         -6.0242e+00,  2.9659e+01, -1.5485e+00,  1.7876e+01, -1.2354e+01],\n",
      "        [-1.2022e+01, -6.2284e+00, -4.4243e+00,  2.4254e+01,  8.3314e+00,\n",
      "         -2.6877e+00,  2.8392e+01, -1.0970e+01,  2.5025e+01, -9.9946e+00],\n",
      "        [-1.1936e+01, -9.2045e+00,  5.7254e+00,  2.6159e+01,  7.7884e+00,\n",
      "          4.8049e+00,  2.4184e+01,  4.9287e-01,  2.2968e+01, -1.2281e+01],\n",
      "        [-6.4893e+00,  3.4637e+00,  1.4735e+01,  2.8656e+01,  1.6461e+01,\n",
      "         -1.1468e+01,  2.0565e+01, -6.0564e+00,  2.2598e+01, -1.2728e+01],\n",
      "        [-1.0114e+01, -1.5095e-01,  2.1191e+01,  2.7351e+01,  2.8623e+01,\n",
      "          1.0644e+01,  2.6491e+01, -1.7993e+01,  2.4965e+01, -1.0954e+01],\n",
      "        [-2.8376e+00, -4.6686e+00,  3.3122e+00,  2.4787e+01,  7.7488e+00,\n",
      "          5.5999e+00,  3.3988e+01, -7.6273e+00,  2.2306e+01, -1.5954e+01],\n",
      "        [-5.3924e+00, -1.1949e+01,  9.5554e+00,  2.9401e+01,  1.8317e+01,\n",
      "          1.7707e+00,  2.7597e+01, -1.1464e+01,  2.9231e+01, -1.3571e+01],\n",
      "        [-1.1657e+01, -1.5967e+01,  1.1695e+01,  2.4452e+01,  2.3448e+00,\n",
      "          5.2983e+00,  3.1797e+01, -5.1801e+00,  2.3848e+01, -3.8284e+00],\n",
      "        [-7.3978e+00, -1.1903e+01,  1.5132e+01,  3.1914e+01,  1.2520e+01,\n",
      "         -1.2146e-01,  2.8355e+01, -1.1305e+01,  1.5407e+01, -8.2119e+00],\n",
      "        [-5.7867e+00,  8.6410e-01,  1.2426e+01,  2.0280e+01,  1.0092e+01,\n",
      "          4.2752e+00,  3.7984e+01, -8.2559e+00,  3.4248e+01, -1.5941e+01],\n",
      "        [-9.3207e+00,  6.2101e+00,  6.4063e+00,  2.3996e+01,  1.6624e+01,\n",
      "          4.2409e+00,  2.3263e+01, -7.1425e+00,  2.9246e+01, -1.8074e+01],\n",
      "        [-1.1714e+01, -3.6134e+00,  1.6443e+01,  2.9878e+01,  1.4552e+01,\n",
      "          6.2110e+00,  2.5809e+01, -1.1995e+01,  2.2689e+01, -1.1004e+01],\n",
      "        [-1.5138e+01, -7.1512e+00,  1.3795e+01,  2.1793e+01,  1.8100e+01,\n",
      "          1.0013e+01,  2.6629e+01, -1.4438e+01,  2.3032e+01, -1.4172e+01],\n",
      "        [-2.6457e+00, -1.2614e+01,  1.8507e+00,  3.5659e+01,  1.2091e+01,\n",
      "         -6.8094e+00,  1.6740e+01, -1.2986e+01,  2.4577e+01, -1.0253e+01],\n",
      "        [-1.9436e+00, -4.1092e+00,  8.5112e+00,  2.6569e+01,  2.0192e+01,\n",
      "         -5.9827e-01,  2.8471e+01, -1.1204e+01,  2.1596e+01, -1.2510e+01],\n",
      "        [-9.1730e+00, -3.6329e+00,  5.3435e+00,  2.8365e+01,  1.6321e+01,\n",
      "          6.8801e+00,  2.5395e+01, -8.5371e+00,  1.5096e+01, -1.2240e+01],\n",
      "        [-9.1724e+00, -4.0038e+00,  3.3070e+00,  2.2856e+01,  1.9902e+01,\n",
      "          1.4417e+00,  3.0547e+01, -8.6677e+00,  2.8121e+01, -1.9005e+01],\n",
      "        [-1.1249e+00, -2.5015e+00,  7.5898e+00,  3.9066e+01,  1.5382e+01,\n",
      "         -3.9918e+00,  2.9883e+01, -5.9587e+00,  3.0312e+01, -1.4078e+01],\n",
      "        [-5.0047e+00, -1.3244e+01,  7.0569e+00,  1.7399e+01,  8.9563e+00,\n",
      "          7.6142e+00,  2.3496e+01, -1.0490e+01,  1.9510e+01, -7.0658e+00],\n",
      "        [-1.4055e+01, -5.8055e+00,  1.0142e+01,  2.9187e+01,  1.1771e+01,\n",
      "         -3.4422e-01,  2.2521e+01, -6.1167e+00,  2.5168e+01, -6.6183e+00],\n",
      "        [-1.4513e+01, -6.2385e+00,  4.3889e-01,  2.4248e+01,  1.2497e+01,\n",
      "          5.9727e-01,  2.5524e+01, -6.7047e+00,  2.8746e+01, -2.0356e+01],\n",
      "        [-2.3948e+00, -7.6794e+00, -1.2039e+00,  3.9554e+01,  1.0052e+01,\n",
      "         -9.2782e+00,  2.2357e+01, -1.4508e+01,  2.5474e+01, -1.1294e+01],\n",
      "        [-1.0746e+01, -1.0497e+01,  6.2304e+00,  3.4301e+01,  1.3235e+01,\n",
      "         -6.9543e+00,  2.2912e+01, -3.7349e+00,  3.4133e+01, -1.1943e+01]])\n"
     ]
    }
   ],
   "source": [
    "def activation(x):\n",
    "    return 1 / (1 + torch.exp(-x))\n",
    "#flatten the input images\n",
    "inputs = images.view(images.shape[0], -1)\n",
    "\n",
    "#create the parameters\n",
    "W1 = torch.randn(784, 256)\n",
    "B1 = torch.randn(256)\n",
    "\n",
    "W2 = torch.randn(256, 10)\n",
    "B2 = torch.randn(10)\n",
    "\n",
    "h = activation(torch.mm(inputs, W1) + B1)\n",
    "output = torch.mm(h, W2) + B2\n",
    "\n",
    "print(output)"
   ]
  },
  {
   "cell_type": "code",
   "execution_count": 73,
   "metadata": {},
   "outputs": [
    {
     "name": "stdout",
     "output_type": "stream",
     "text": [
      "torch.Size([64, 10])\n",
      "tensor([1.0000, 1.0000, 1.0000, 1.0000, 1.0000, 1.0000, 1.0000, 1.0000, 1.0000,\n",
      "        1.0000, 1.0000, 1.0000, 1.0000, 1.0000, 1.0000, 1.0000, 1.0000, 1.0000,\n",
      "        1.0000, 1.0000, 1.0000, 1.0000, 1.0000, 1.0000, 1.0000, 1.0000, 1.0000,\n",
      "        1.0000, 1.0000, 1.0000, 1.0000, 1.0000, 1.0000, 1.0000, 1.0000, 1.0000,\n",
      "        1.0000, 1.0000, 1.0000, 1.0000, 1.0000, 1.0000, 1.0000, 1.0000, 1.0000,\n",
      "        1.0000, 1.0000, 1.0000, 1.0000, 1.0000, 1.0000, 1.0000, 1.0000, 1.0000,\n",
      "        1.0000, 1.0000, 1.0000, 1.0000, 1.0000, 1.0000, 1.0000, 1.0000, 1.0000,\n",
      "        1.0000])\n"
     ]
    }
   ],
   "source": [
    "def softmax(x):\n",
    "    return torch.exp(x) / torch.sum(torch.exp(x), dim=1).view(-1, 1)\n",
    "\n",
    "probabilities = softmax(output)\n",
    "\n",
    "print(probabilities.shape)\n",
    "print(probabilities.sum(dim = 1))"
   ]
  },
  {
   "cell_type": "code",
   "execution_count": 74,
   "metadata": {},
   "outputs": [],
   "source": [
    "#Building networks with Pytorch"
   ]
  },
  {
   "cell_type": "code",
   "execution_count": 75,
   "metadata": {},
   "outputs": [],
   "source": [
    "from torch import nn"
   ]
  },
  {
   "cell_type": "code",
   "execution_count": 76,
   "metadata": {},
   "outputs": [],
   "source": [
    "class Network(nn.Module):\n",
    "    def __init__(self):\n",
    "        super().__init__()\n",
    "        \n",
    "        #inputs to hidden layer using linear transformation\n",
    "        self.hidden = nn.Linear(784, 256)\n",
    "        #output layer\n",
    "        self.output = nn.Linear(256, 10)\n",
    "        \n",
    "        #define sigmoid activation, softmax output\n",
    "        self.sigmoid = nn.Sigmoid()\n",
    "        self.softmax = nn.Softmax(dim=1)\n",
    "    def forward (self, x):\n",
    "        x = self.hidden(x)\n",
    "        x = self.sigmoid(x)\n",
    "        x = self.output(x)\n",
    "        x = self.softmax(x)\n",
    "        \n",
    "        return x"
   ]
  },
  {
   "cell_type": "code",
   "execution_count": 77,
   "metadata": {},
   "outputs": [
    {
     "data": {
      "text/plain": [
       "Network(\n",
       "  (hidden): Linear(in_features=784, out_features=256, bias=True)\n",
       "  (output): Linear(in_features=256, out_features=10, bias=True)\n",
       "  (sigmoid): Sigmoid()\n",
       "  (softmax): Softmax(dim=1)\n",
       ")"
      ]
     },
     "execution_count": 77,
     "metadata": {},
     "output_type": "execute_result"
    }
   ],
   "source": [
    "#check the whether network is working or not\n",
    "model = Network()\n",
    "model"
   ]
  },
  {
   "cell_type": "code",
   "execution_count": 78,
   "metadata": {},
   "outputs": [],
   "source": [
    "#define network more precisely using torch.nn.functional"
   ]
  },
  {
   "cell_type": "code",
   "execution_count": 79,
   "metadata": {},
   "outputs": [],
   "source": [
    "import torch.nn.functional as F\n",
    "\n",
    "class Network(nn.Module):\n",
    "    def __init__(self):\n",
    "        super().__init__()\n",
    "        self.hidden = nn.Linear(784, 256)\n",
    "        self.hidden = nn.Linear(256, 0)\n",
    "        \n",
    "        \n",
    "    def forward(self,x):\n",
    "        x = F.sigmoid(self.hidden(x))\n",
    "        x = F.softmax(self.ouput(x), dim=1)\n",
    "        \n",
    "        return x"
   ]
  },
  {
   "cell_type": "code",
   "execution_count": 80,
   "metadata": {},
   "outputs": [
    {
     "data": {
      "text/plain": [
       "Network(\n",
       "  (hidden): Linear(in_features=256, out_features=0, bias=True)\n",
       ")"
      ]
     },
     "execution_count": 80,
     "metadata": {},
     "output_type": "execute_result"
    }
   ],
   "source": [
    "modell = Network()\n",
    "modell"
   ]
  },
  {
   "cell_type": "code",
   "execution_count": 81,
   "metadata": {},
   "outputs": [],
   "source": [
    "#Build Network "
   ]
  },
  {
   "cell_type": "code",
   "execution_count": 82,
   "metadata": {},
   "outputs": [
    {
     "data": {
      "text/plain": [
       "Network(\n",
       "  (fc1): Linear(in_features=784, out_features=128, bias=True)\n",
       "  (fc2): Linear(in_features=128, out_features=64, bias=True)\n",
       "  (fc3): Linear(in_features=64, out_features=10, bias=True)\n",
       ")"
      ]
     },
     "execution_count": 82,
     "metadata": {},
     "output_type": "execute_result"
    }
   ],
   "source": [
    "class Network(nn.Module):\n",
    "    def __init__(self):\n",
    "        super().__init__()\n",
    "        \n",
    "        self.fc1 = nn.Linear(784, 128)\n",
    "        self.fc2 = nn.Linear(128, 64)\n",
    "        self.fc3 = nn.Linear(64, 10)\n",
    "        \n",
    "    def forward(self,x):\n",
    "        x = self.fc1(x)\n",
    "        x = F.relu(x)\n",
    "        x = self.fc2(x)\n",
    "        x = F.relu(x)\n",
    "        x = self.fc3(x)\n",
    "        x = F.softmax(x, dim=1)\n",
    "        \n",
    "        return x\n",
    "    \n",
    "modelll = Network()\n",
    "modelll"
   ]
  },
  {
   "cell_type": "code",
   "execution_count": 83,
   "metadata": {},
   "outputs": [],
   "source": [
    "#Initialize weights and bias"
   ]
  },
  {
   "cell_type": "code",
   "execution_count": 84,
   "metadata": {},
   "outputs": [
    {
     "name": "stdout",
     "output_type": "stream",
     "text": [
      "Parameter containing:\n",
      "tensor([[ 0.0128,  0.0010, -0.0266,  ..., -0.0278, -0.0308, -0.0160],\n",
      "        [-0.0342,  0.0155,  0.0310,  ...,  0.0324,  0.0134,  0.0152],\n",
      "        [ 0.0074,  0.0063, -0.0186,  ..., -0.0339, -0.0111,  0.0237],\n",
      "        ...,\n",
      "        [ 0.0303,  0.0311, -0.0053,  ..., -0.0339, -0.0129, -0.0130],\n",
      "        [ 0.0151,  0.0278,  0.0163,  ...,  0.0347,  0.0116, -0.0201],\n",
      "        [-0.0148,  0.0285,  0.0198,  ..., -0.0034, -0.0221,  0.0161]],\n",
      "       requires_grad=True)\n",
      "Parameter containing:\n",
      "tensor([ 0.0265, -0.0318,  0.0067, -0.0026,  0.0213, -0.0316, -0.0332, -0.0014,\n",
      "         0.0068,  0.0236,  0.0223, -0.0040,  0.0210, -0.0202,  0.0349, -0.0021,\n",
      "        -0.0101, -0.0190, -0.0023, -0.0031,  0.0065,  0.0192,  0.0036,  0.0316,\n",
      "        -0.0087,  0.0229,  0.0237, -0.0043, -0.0249, -0.0078,  0.0279,  0.0332,\n",
      "        -0.0107,  0.0139,  0.0276, -0.0215, -0.0116,  0.0289, -0.0066, -0.0222,\n",
      "         0.0060,  0.0054, -0.0043, -0.0075, -0.0015,  0.0146, -0.0056,  0.0200,\n",
      "         0.0246, -0.0201,  0.0100, -0.0276,  0.0007, -0.0160, -0.0107, -0.0026,\n",
      "        -0.0275, -0.0016, -0.0228, -0.0221, -0.0213,  0.0152, -0.0238, -0.0093,\n",
      "         0.0092, -0.0116,  0.0290,  0.0214,  0.0300, -0.0152, -0.0144, -0.0273,\n",
      "         0.0084, -0.0341, -0.0304,  0.0321,  0.0288, -0.0090,  0.0207,  0.0272,\n",
      "        -0.0042, -0.0321, -0.0346, -0.0345,  0.0357, -0.0356,  0.0020,  0.0292,\n",
      "         0.0066, -0.0196, -0.0341, -0.0265, -0.0248, -0.0282, -0.0189,  0.0072,\n",
      "         0.0267,  0.0086,  0.0207,  0.0072,  0.0328, -0.0103, -0.0311,  0.0055,\n",
      "         0.0254, -0.0051, -0.0074,  0.0069,  0.0301,  0.0335,  0.0012,  0.0326,\n",
      "        -0.0061, -0.0004,  0.0116, -0.0144,  0.0328, -0.0040, -0.0191,  0.0007,\n",
      "        -0.0003,  0.0301, -0.0315, -0.0266,  0.0018, -0.0048,  0.0174, -0.0252],\n",
      "       requires_grad=True)\n"
     ]
    }
   ],
   "source": [
    "print(modelll.fc1.weight)\n",
    "print(modelll.fc1.bias)"
   ]
  },
  {
   "cell_type": "code",
   "execution_count": 85,
   "metadata": {},
   "outputs": [
    {
     "data": {
      "text/plain": [
       "tensor([0., 0., 0., 0., 0., 0., 0., 0., 0., 0., 0., 0., 0., 0., 0., 0., 0., 0., 0., 0., 0., 0., 0., 0.,\n",
       "        0., 0., 0., 0., 0., 0., 0., 0., 0., 0., 0., 0., 0., 0., 0., 0., 0., 0., 0., 0., 0., 0., 0., 0.,\n",
       "        0., 0., 0., 0., 0., 0., 0., 0., 0., 0., 0., 0., 0., 0., 0., 0., 0., 0., 0., 0., 0., 0., 0., 0.,\n",
       "        0., 0., 0., 0., 0., 0., 0., 0., 0., 0., 0., 0., 0., 0., 0., 0., 0., 0., 0., 0., 0., 0., 0., 0.,\n",
       "        0., 0., 0., 0., 0., 0., 0., 0., 0., 0., 0., 0., 0., 0., 0., 0., 0., 0., 0., 0., 0., 0., 0., 0.,\n",
       "        0., 0., 0., 0., 0., 0., 0., 0.])"
      ]
     },
     "execution_count": 85,
     "metadata": {},
     "output_type": "execute_result"
    }
   ],
   "source": [
    "#set bias to all zeros\n",
    "modelll.fc1.bias.data.fill_(0)"
   ]
  },
  {
   "cell_type": "code",
   "execution_count": 86,
   "metadata": {},
   "outputs": [
    {
     "data": {
      "text/plain": [
       "tensor([[ 0.0154, -0.0087,  0.0055,  ..., -0.0049, -0.0169, -0.0034],\n",
       "        [-0.0016,  0.0031,  0.0063,  ...,  0.0022, -0.0147, -0.0089],\n",
       "        [-0.0104, -0.0020,  0.0091,  ...,  0.0056,  0.0117, -0.0054],\n",
       "        ...,\n",
       "        [-0.0081,  0.0065, -0.0089,  ..., -0.0056,  0.0032, -0.0213],\n",
       "        [-0.0049,  0.0004, -0.0179,  ...,  0.0085, -0.0087, -0.0034],\n",
       "        [-0.0044, -0.0245,  0.0024,  ..., -0.0090,  0.0042,  0.0023]])"
      ]
     },
     "execution_count": 86,
     "metadata": {},
     "output_type": "execute_result"
    }
   ],
   "source": [
    "modelll.fc1.weight.data.normal_(std=0.01)"
   ]
  },
  {
   "cell_type": "code",
   "execution_count": 88,
   "metadata": {},
   "outputs": [
    {
     "data": {
      "image/png": "[encoded data removed]",
      "text/plain": [
       "<Figure size 432x648 with 2 Axes>"
      ]
     },
     "metadata": {
      "image/png": {
       "height": 235,
       "width": 424
      },
      "needs_background": "light"
     },
     "output_type": "display_data"
    }
   ],
   "source": [
    "#Forward pass\n",
    "#grap some data\n",
    "dataiter = iter(trainloader)\n",
    "images.labels = dataiter.next()\n",
    "\n",
    "#resize images into 1D vector\n",
    "images.resize_(64, 1, 784)\n",
    "\n",
    "#forward pass through the Network\n",
    "img_idx = 0\n",
    "ps = modelll.forward(images[img_idx,:])\n",
    "\n",
    "img = images[img_idx]\n",
    "helper.view_classify(img.view(1, 28, 28), ps)"
   ]
  },
  {
   "cell_type": "code",
   "execution_count": 89,
   "metadata": {},
   "outputs": [],
   "source": [
    "#using nn.Sequential"
   ]
  },
  {
   "cell_type": "code",
   "execution_count": 96,
   "metadata": {},
   "outputs": [
    {
     "name": "stdout",
     "output_type": "stream",
     "text": [
      "Sequential(\n",
      "  (0): Linear(in_features=784, out_features=138, bias=True)\n",
      "  (1): ReLU()\n",
      "  (2): Linear(in_features=138, out_features=64, bias=True)\n",
      "  (3): ReLU()\n",
      "  (4): Linear(in_features=64, out_features=10, bias=True)\n",
      "  (5): Softmax(dim=1)\n",
      ")\n"
     ]
    },
    {
     "data": {
      "image/png": "[encoded data removed]",
      "text/plain": [
       "<Figure size 432x648 with 2 Axes>"
      ]
     },
     "metadata": {
      "image/png": {
       "height": 235,
       "width": 424
      },
      "needs_background": "light"
     },
     "output_type": "display_data"
    }
   ],
   "source": [
    "input_size = 784\n",
    "hidden_sizes = [138, 64]\n",
    "output_size = 10\n",
    "\n",
    "#Build feedforward network\n",
    "model = nn.Sequential(nn.Linear(input_size, hidden_sizes[0]),\n",
    "                      nn.ReLU(),\n",
    "                      nn.Linear(hidden_sizes[0], hidden_sizes[1]),\n",
    "                      nn.ReLU(),\n",
    "                      nn.Linear(hidden_sizes[1], output_size),\n",
    "                      nn.Softmax(dim=1))\n",
    "                      \n",
    "print(model)\n",
    "                      \n",
    "#forward pass through the network and print the output\n",
    "images, labels = next(iter(trainloader))\n",
    "images.resize_(images.shape[0], 1, 784)\n",
    "ps = model.forward(images[0,:])\n",
    "helper.view_classify(images[0].view(1, 28, 28), ps)"
   ]
  },
  {
   "cell_type": "code",
   "execution_count": 97,
   "metadata": {},
   "outputs": [
    {
     "name": "stdout",
     "output_type": "stream",
     "text": [
      "Linear(in_features=784, out_features=138, bias=True)\n"
     ]
    },
    {
     "data": {
      "text/plain": [
       "Parameter containing:\n",
       "tensor([[-0.0355,  0.0079, -0.0106,  ...,  0.0194,  0.0240, -0.0110],\n",
       "        [ 0.0043, -0.0126, -0.0261,  ...,  0.0342,  0.0161, -0.0209],\n",
       "        [ 0.0145, -0.0012,  0.0337,  ...,  0.0016, -0.0221, -0.0071],\n",
       "        ...,\n",
       "        [-0.0055, -0.0333,  0.0160,  ...,  0.0021, -0.0155, -0.0157],\n",
       "        [-0.0069,  0.0345,  0.0103,  ...,  0.0273, -0.0135, -0.0042],\n",
       "        [-0.0051, -0.0233,  0.0005,  ..., -0.0007, -0.0237, -0.0262]],\n",
       "       requires_grad=True)"
      ]
     },
     "execution_count": 97,
     "metadata": {},
     "output_type": "execute_result"
    }
   ],
   "source": [
    "print(model[0])\n",
    "model[0].weight"
   ]
  },
  {
   "cell_type": "code",
   "execution_count": 98,
   "metadata": {},
   "outputs": [
    {
     "data": {
      "text/plain": [
       "Sequential(\n",
       "  (fc1): Linear(in_features=784, out_features=138, bias=True)\n",
       "  (relu): ReLU()\n",
       "  (fc2): Linear(in_features=138, out_features=64, bias=True)\n",
       "  (output): Linear(in_features=64, out_features=10, bias=True)\n",
       "  (softmax): Softmax(dim=1)\n",
       ")"
      ]
     },
     "execution_count": 98,
     "metadata": {},
     "output_type": "execute_result"
    }
   ],
   "source": [
    "from collections import OrderedDict\n",
    "model = nn.Sequential(OrderedDict([\n",
    "                    ('fc1', nn.Linear(input_size, hidden_sizes[0])),\n",
    "                    ('relu', nn.ReLU()),\n",
    "                    ('fc2', nn.Linear(hidden_sizes[0], hidden_sizes[1])),\n",
    "                    ('relu', nn.ReLU()),\n",
    "                    ('output', nn.Linear(hidden_sizes[1], output_size)),\n",
    "                    ('softmax', nn.Softmax(dim=1))\n",
    "]))\n",
    "\n",
    "model"
   ]
  },
  {
   "cell_type": "code",
   "execution_count": 99,
   "metadata": {},
   "outputs": [
    {
     "name": "stdout",
     "output_type": "stream",
     "text": [
      "Linear(in_features=784, out_features=138, bias=True)\n",
      "Linear(in_features=784, out_features=138, bias=True)\n"
     ]
    }
   ],
   "source": [
    "print(model[0])\n",
    "print(model.fc1)"
   ]
  },
  {
   "cell_type": "code",
   "execution_count": null,
   "metadata": {},
   "outputs": [],
   "source": []
  }
 ],
 "metadata": {
  "kernelspec": {
   "display_name": "Python 3",
   "language": "python",
   "name": "python3"
  },
  "language_info": {
   "codemirror_mode": {
    "name": "ipython",
    "version": 3
   },
   "file_extension": ".py",
   "mimetype": "text/x-python",
   "name": "python",
   "nbconvert_exporter": "python",
   "pygments_lexer": "ipython3",
   "version": "3.7.3"
  }
 },
 "nbformat": 4,
 "nbformat_minor": 2
}
