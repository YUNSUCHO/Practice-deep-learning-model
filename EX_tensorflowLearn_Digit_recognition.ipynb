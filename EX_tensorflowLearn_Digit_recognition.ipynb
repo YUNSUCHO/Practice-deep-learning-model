{
 "cells": [
  {
   "cell_type": "code",
   "execution_count": 10,
   "metadata": {},
   "outputs": [],
   "source": [
    "import numpy as np\n",
    "import tensorflow as tf\n",
    "import tflearn\n",
    "import tflearn.datasets.mnist as mnist\n",
    "\n",
    "#tflearn : high-level library nuilt on top of tensorflow to build the neural network"
   ]
  },
  {
   "cell_type": "code",
   "execution_count": 11,
   "metadata": {},
   "outputs": [
    {
     "name": "stdout",
     "output_type": "stream",
     "text": [
      "Extracting mnist/train-images-idx3-ubyte.gz\n",
      "Extracting mnist/train-labels-idx1-ubyte.gz\n",
      "Extracting mnist/t10k-images-idx3-ubyte.gz\n",
      "Extracting mnist/t10k-labels-idx1-ubyte.gz\n"
     ]
    }
   ],
   "source": [
    "#Retrieving training and test data\n",
    "\n",
    "#Flattened data : We will use flattened data that is image od one dimension rather that two\n",
    "#Flattened data : one dimensional array of 784 pixel values\n",
    "#mnist after flattened : [55000, 784]\n",
    "\n",
    "#Retrieve the training and test data\n",
    "trainX, trainY, testX, testY = mnist.load_data(one_hot=True)"
   ]
  },
  {
   "cell_type": "code",
   "execution_count": 14,
   "metadata": {},
   "outputs": [
    {
     "data": {
      "image/png": "[encoded data removed]",
      "text/plain": [
       "<Figure size 432x288 with 1 Axes>"
      ]
     },
     "metadata": {
      "needs_background": "light"
     },
     "output_type": "display_data"
    }
   ],
   "source": [
    "# Visualize the training data\n",
    "\n",
    "import matplotlib.pyplot as plt\n",
    "%matplotlib inline\n",
    "\n",
    "#function for displaying a training image by it's index in the mnist set\n",
    "def display_digit(index):\n",
    "    label = trainY[index].argmax(axis=0)\n",
    "    \n",
    "    #reshape 784 array into 28 * 28 image\n",
    "    image = trainX[index].reshape([28, 28])\n",
    "    plt.title(\"Training data, index : %d, Label : %d\" % (index, label))\n",
    "    plt.imshow(image, cmap = 'gray_r')\n",
    "    plt.show()\n",
    "    \n",
    "display_digit(0)"
   ]
  },
  {
   "cell_type": "code",
   "execution_count": 17,
   "metadata": {},
   "outputs": [],
   "source": [
    "#Building the network\n",
    "\n",
    "# 1. Input layer : tell the network the number of inputs, it should expect for each piece of MNIST data\n",
    "# 2. Hidden layers : layers recognize pattern in data and connect the input to the output layer\n",
    "# 3. output layer : defines how the network learns and outputs a label for a given image\n",
    "\n",
    "def build_model():\n",
    "    #reset all the parameters, and variables\n",
    "    tf.reset_default_graph()\n",
    "    \n",
    "    #Inputs\n",
    "    net = tflearn.input_data([None, trainX.shape[1]])\n",
    "    \n",
    "    #hidden layers\n",
    "    net = tflearn.fully_connected(net, 128, activation = 'ReLU')\n",
    "    net = tflearn.fully_connected(net, 32, activation = 'ReLU')\n",
    "    \n",
    "    #output layer\n",
    "    net = tflearn.fully_connected(net, 10, activation = 'softmax')\n",
    "    net = tflearn.regression(net, optimizer = 'sgd', learning_rate = 0.01, loss = 'categorical_crossentropy')\n",
    "    \n",
    "    model = tflearn.DNN(net)\n",
    "    \n",
    "    return model"
   ]
  },
  {
   "cell_type": "code",
   "execution_count": 18,
   "metadata": {},
   "outputs": [
    {
     "name": "stderr",
     "output_type": "stream",
     "text": [
      "W0120 17:16:36.950870 4715935168 deprecation_wrapper.py:119] From //anaconda3/envs/deeplearning/lib/python3.7/site-packages/tflearn/layers/core.py:81: The name tf.placeholder is deprecated. Please use tf.compat.v1.placeholder instead.\n",
      "\n",
      "W0120 17:16:36.958214 4715935168 deprecation.py:506] From //anaconda3/envs/deeplearning/lib/python3.7/site-packages/tflearn/initializations.py:174: calling TruncatedNormal.__init__ (from tensorflow.python.ops.init_ops) with dtype is deprecated and will be removed in a future version.\n",
      "Instructions for updating:\n",
      "Call initializer instance with the dtype argument instead of passing it to the constructor\n",
      "W0120 17:16:37.012901 4715935168 deprecation_wrapper.py:119] From //anaconda3/envs/deeplearning/lib/python3.7/site-packages/tflearn/optimizers.py:135: The name tf.train.GradientDescentOptimizer is deprecated. Please use tf.compat.v1.train.GradientDescentOptimizer instead.\n",
      "\n",
      "W0120 17:16:37.022512 4715935168 deprecation.py:506] From //anaconda3/envs/deeplearning/lib/python3.7/site-packages/tflearn/objectives.py:66: calling reduce_sum_v1 (from tensorflow.python.ops.math_ops) with keep_dims is deprecated and will be removed in a future version.\n",
      "Instructions for updating:\n",
      "keep_dims is deprecated, use keepdims instead\n",
      "W0120 17:16:37.085245 4715935168 deprecation_wrapper.py:119] From //anaconda3/envs/deeplearning/lib/python3.7/site-packages/tflearn/summaries.py:46: The name tf.summary.scalar is deprecated. Please use tf.compat.v1.summary.scalar instead.\n",
      "\n",
      "W0120 17:16:37.137552 4715935168 deprecation.py:323] From //anaconda3/envs/deeplearning/lib/python3.7/site-packages/tensorflow/python/ops/math_grad.py:1250: add_dispatch_support.<locals>.wrapper (from tensorflow.python.ops.array_ops) is deprecated and will be removed in a future version.\n",
      "Instructions for updating:\n",
      "Use tf.where in 2.0, which has the same broadcast rule as np.where\n",
      "W0120 17:16:37.215286 4715935168 deprecation_wrapper.py:119] From //anaconda3/envs/deeplearning/lib/python3.7/site-packages/tflearn/helpers/trainer.py:134: The name tf.train.Saver is deprecated. Please use tf.compat.v1.train.Saver instead.\n",
      "\n"
     ]
    }
   ],
   "source": [
    "#Build the model\n",
    "model = build_model()"
   ]
  },
  {
   "cell_type": "code",
   "execution_count": 19,
   "metadata": {},
   "outputs": [
    {
     "name": "stdout",
     "output_type": "stream",
     "text": [
      "Training Step: 49499  | total loss: \u001b[1m\u001b[32m0.05762\u001b[0m\u001b[0m | time: 2.849s\n",
      "| SGD | epoch: 100 | loss: 0.05762 - acc: 0.9863 -- iter: 49400/49500\n",
      "Training Step: 49500  | total loss: \u001b[1m\u001b[32m0.05547\u001b[0m\u001b[0m | time: 3.875s\n",
      "| SGD | epoch: 100 | loss: 0.05547 - acc: 0.9866 | val_loss: 0.10337 - val_acc: 0.9722 -- iter: 49500/49500\n",
      "--\n"
     ]
    }
   ],
   "source": [
    "#Training the network\n",
    "\n",
    "#training\n",
    "model.fit(trainX, trainY, validation_set = 0.1, show_metric = True, batch_size = 100, n_epoch = 100)"
   ]
  },
  {
   "cell_type": "code",
   "execution_count": 22,
   "metadata": {},
   "outputs": [
    {
     "name": "stdout",
     "output_type": "stream",
     "text": [
      "Test accuracy:  0.9711\n"
     ]
    }
   ],
   "source": [
    "#Testing\n",
    "\n",
    "#Find the indices of the most confident prediction for each item. \n",
    "predictions = np.array(model.predict(testX)).argmax(axis = 1)\n",
    "\n",
    "#calculate accuracy\n",
    "actual = testY.argmax(axis=1)\n",
    "test_accuracy = np.mean(predictions == actual, axis = 0)\n",
    "\n",
    "#print result\n",
    "print(\"Test accuracy: \", test_accuracy)"
   ]
  },
  {
   "cell_type": "code",
   "execution_count": null,
   "metadata": {},
   "outputs": [],
   "source": []
  }
 ],
 "metadata": {
  "kernelspec": {
   "display_name": "Python 3",
   "language": "python",
   "name": "python3"
  },
  "language_info": {
   "codemirror_mode": {
    "name": "ipython",
    "version": 3
   },
   "file_extension": ".py",
   "mimetype": "text/x-python",
   "name": "python",
   "nbconvert_exporter": "python",
   "pygments_lexer": "ipython3",
   "version": "3.7.3"
  }
 },
 "nbformat": 4,
 "nbformat_minor": 2
}
